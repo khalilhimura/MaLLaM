{
  "nbformat": 4,
  "nbformat_minor": 0,
  "metadata": {
    "colab": {
      "provenance": [],
      "authorship_tag": "ABX9TyP6WEO+QTkc3kzVKsJQd62Q",
      "include_colab_link": true
    },
    "kernelspec": {
      "name": "python3",
      "display_name": "Python 3"
    },
    "language_info": {
      "name": "python"
    }
  },
  "cells": [
    {
      "cell_type": "markdown",
      "metadata": {
        "id": "view-in-github",
        "colab_type": "text"
      },
      "source": [
        "<a href=\"https://colab.research.google.com/github/khalilhimura/MaLLaM/blob/main/MaLLaM_%F0%9F%8C%99_by_Mesolitica_101.ipynb\" target=\"_parent\"><img src=\"https://colab.research.google.com/assets/colab-badge.svg\" alt=\"Open In Colab\"/></a>"
      ]
    },
    {
      "cell_type": "markdown",
      "source": [
        "# MaLLaM 🌙 - Basic LLM Chat Completion"
      ],
      "metadata": {
        "id": "orx4cn_SfTqi"
      }
    },
    {
      "cell_type": "code",
      "source": [
        "\n",
        "from openai import OpenAI\n",
        "from google.colab import userdata # To access Environment Variables in Colab\n",
        "\n",
        "# To properly display output response in Colab\n",
        "import markdown # To convert Markdown to HTML\n",
        "from IPython.display import HTML # To display HTML in Colab\n",
        "\n",
        "# Normal way to access Environment Variables\n",
        "#   import os\n",
        "#   api_key = os.environ.get(\"OPENAI_API_KEY\")\n",
        "\n",
        "client = OpenAI(\n",
        "    api_key = userdata.get('OPENAI_API_KEY'),\n",
        "    base_url=\"https://api.mesolitica.com\",\n",
        ")\n",
        "\n",
        "response = client.chat.completions.create(\n",
        "    model=\"mallam-small-reasoning\",\n",
        "    temperature=0.6,\n",
        "    top_p=0.95,\n",
        "    max_tokens=1024,\n",
        "    messages=[\n",
        "  {\n",
        "    \"role\": \"system\",\n",
        "    \"content\": \"You are a helpful assistant. Reply in casual Malay.\"\n",
        "  },\n",
        "  {\n",
        "    \"role\": \"user\",\n",
        "    \"content\": \"Mcm mana nk buat nasi goreng kampung? Boleh bg resipi dia x?\"\n",
        "  }\n",
        "]\n",
        ")\n",
        "\n",
        "# Print the response content\n",
        "display(HTML(markdown.markdown(response.choices[0].message.content)))\n"
      ],
      "metadata": {
        "colab": {
          "base_uri": "https://localhost:8080/",
          "height": 533
        },
        "outputId": "3fe46152-d6f4-4a23-883d-c28720f70115",
        "id": "kRfq0IsZd_aV"
      },
      "execution_count": 7,
      "outputs": [
        {
          "output_type": "display_data",
          "data": {
            "text/plain": [
              "<IPython.core.display.HTML object>"
            ],
            "text/html": [
              "<p>Nasi Goreng Kampung ni laju je nak masak, rasa pun sedap gila. Ni cara nak buat dia:</p>\n",
              "<p>Bahan-bahan:</p>\n",
              "<ul>\n",
              "<li>2 cawan nasi (masak sehari dulu)</li>\n",
              "<li>1 biji bawang besar, potong kecik-kecik</li>\n",
              "<li>2 ulas bawang putih, tekan habis</li>\n",
              "<li>1 biji cili merah, potong kecik-kecik</li>\n",
              "<li>1/4 cawan sayur kacang panjang, potong kecik-kecik</li>\n",
              "<li>1/4 cawan sayur sawi, potong kecik-kecik</li>\n",
              "<li>1/4 cawan udang rebus, potong kecik-kecik</li>\n",
              "<li>1/4 cawan ayam rebus, potong kecik-kecik</li>\n",
              "<li>1/4 cawan tauhu, potong kecik-kecik</li>\n",
              "<li>1/2 sudu teh lada hitam, tumbuk habis</li>\n",
              "<li>1 sudu teh sos soya</li>\n",
              "<li>1 sudu teh sos tiram</li>\n",
              "<li>1/2 sudu teh cili kering, tumbuk habis</li>\n",
              "<li>1/2 sudu teh gula</li>\n",
              "<li>Garam ikut selera</li>\n",
              "<li>Minyak masak</li>\n",
              "</ul>\n",
              "<p>Cara masak:</p>\n",
              "<ol>\n",
              "<li>\n",
              "<p>Panaskan kuali dengan minyak, tumis bawang besar, bawang putih, cili merah sampai wangi.</p>\n",
              "</li>\n",
              "<li>\n",
              "<p>Masukkan sayur kacang panjang, sawi, udang, ayam, tauhu. Kacau sampai semua bercampur.</p>\n",
              "</li>\n",
              "<li>\n",
              "<p>Masukkan nasi, kacau lagi sampai semua campur. Tambah sos soya, sos tiram, lada hitam, cili kering, gula, dan garam ikut selera.</p>\n",
              "</li>\n",
              "<li>\n",
              "<p>Kacau semua sampai nasi berminyak dan wangi. Tunggu sikit supaya semua bahan hangat sama rata.</p>\n",
              "</li>\n",
              "<li>\n",
              "<p>Angkat dari api, hidangkan panas-panas.</p>\n",
              "</li>\n",
              "</ol>\n",
              "<p>Selamat mencuba! Jangan lupa kongsi dengan family dan kawan-kawan.</p>"
            ]
          },
          "metadata": {}
        }
      ]
    }
  ]
}